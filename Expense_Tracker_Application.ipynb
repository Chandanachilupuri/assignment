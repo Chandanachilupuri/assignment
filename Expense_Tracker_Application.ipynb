{
  "cells": [
    {
      "cell_type": "markdown",
      "metadata": {
        "id": "view-in-github",
        "colab_type": "text"
      },
      "source": [
        "<a href=\"https://colab.research.google.com/github/Chandanachilupuri/assignment/blob/main/Expense_Tracker_Application.ipynb\" target=\"_parent\"><img src=\"https://colab.research.google.com/assets/colab-badge.svg\" alt=\"Open In Colab\"/></a>"
      ]
    },
    {
      "cell_type": "code",
      "execution_count": null,
      "metadata": {
        "colab": {
          "base_uri": "https://localhost:8080/"
        },
        "id": "8n6BPvuC24wI",
        "outputId": "0c1e058f-21ef-46ac-ee97-89ef236d29e3"
      },
      "outputs": [
        {
          "output_type": "stream",
          "name": "stdout",
          "text": [
            "\n",
            "Expense Tracker\n",
            "1. Add Expense\n",
            "2. View Expenses\n",
            "3. Analyze Expenses\n",
            "4. Exit\n",
            "Enter your choice (1-4): 1\n",
            "Enter the amount spent: 600\n",
            "Enter a brief description: I ate poori in the breakfast .Then I went for a movie.\n",
            "Enter the expense category: food-120,transport-300,Entertainment-180\n",
            "Expense added successfully!\n",
            "\n",
            "Expense Tracker\n",
            "1. Add Expense\n",
            "2. View Expenses\n",
            "3. Analyze Expenses\n",
            "4. Exit\n",
            "Enter your choice (1-4): 2\n",
            "Expenses:\n",
            "Amount: 600.0, Description: I ate poori in the breakfast .Then I went for a movie., Category: food-120,transport-300,Entertainment-180, Date: 2024-05-23\n",
            "\n",
            "Expense Tracker\n",
            "1. Add Expense\n",
            "2. View Expenses\n",
            "3. Analyze Expenses\n",
            "4. Exit\n",
            "Enter your choice (1-4): 3\n",
            "Total expenses: 600.0\n",
            "Category-wise expenses:\n",
            "food-120,transport-300,Entertainment-180: 600.0\n",
            "\n",
            "Expense Tracker\n",
            "1. Add Expense\n",
            "2. View Expenses\n",
            "3. Analyze Expenses\n",
            "4. Exit\n",
            "Enter your choice (1-4): 4\n",
            "Exiting Expense Tracker...\n"
          ]
        }
      ],
      "source": [
        "import datetime\n",
        "\n",
        "# Data structure to store expenses\n",
        "expenses = []\n",
        "\n",
        "def add_expense():\n",
        "    amount = float(input(\"Enter the amount spent: \"))\n",
        "    description = input(\"Enter a brief description: \")\n",
        "    category = input(\"Enter the expense category: \")\n",
        "    date = datetime.date.today()\n",
        "    expense = {\"amount\": amount, \"description\": description, \"category\": category, \"date\": date}\n",
        "    expenses.append(expense)\n",
        "    print(\"Expense added successfully!\")\n",
        "\n",
        "def view_expenses():\n",
        "    if not expenses:\n",
        "        print(\"No expenses recorded yet.\")\n",
        "    else:\n",
        "        print(\"Expenses:\")\n",
        "        for expense in expenses:\n",
        "            print(f\"Amount: {expense['amount']}, Description: {expense['description']}, Category: {expense['category']}, Date: {expense['date']}\")\n",
        "\n",
        "def analyze_expenses():\n",
        "    total_expenses = sum(expense['amount'] for expense in expenses)\n",
        "    print(f\"Total expenses: {total_expenses}\")\n",
        "\n",
        "    category_expenses = {}\n",
        "    for expense in expenses:\n",
        "        category = expense['category']\n",
        "        amount = expense['amount']\n",
        "        if category in category_expenses:\n",
        "            category_expenses[category] += amount\n",
        "        else:\n",
        "            category_expenses[category] = amount\n",
        "\n",
        "    print(\"Category-wise expenses:\")\n",
        "    for category, amount in category_expenses.items():\n",
        "        print(f\"{category}: {amount}\")\n",
        "\n",
        "def main():\n",
        "    while True:\n",
        "        print(\"\\nExpense Tracker\")\n",
        "        print(\"1. Add Expense\")\n",
        "        print(\"2. View Expenses\")\n",
        "        print(\"3. Analyze Expenses\")\n",
        "        print(\"4. Exit\")\n",
        "\n",
        "        choice = input(\"Enter your choice (1-4): \")\n",
        "\n",
        "        if choice == \"1\":\n",
        "            add_expense()\n",
        "        elif choice == \"2\":\n",
        "            view_expenses()\n",
        "        elif choice == \"3\":\n",
        "            analyze_expenses()\n",
        "        elif choice == \"4\":\n",
        "            print(\"Exiting Expense Tracker...\")\n",
        "            break\n",
        "        else:\n",
        "            print(\"Invalid choice. Please try again.\")\n",
        "\n",
        "if __name__ == \"__main__\":\n",
        "    main()"
      ]
    },
    {
      "cell_type": "markdown",
      "source": [
        "**Code Documentation**\n",
        "This Python program serves as an expense tracker allowing users to add, view,\n",
        "and analyze their expenses. Below is a breakdown of the key functions and the overall program structure:\n",
        "**Data Structure**\n",
        "The program uses a list named expenses to store dictionaries representing individual expenses. Each expense dictionary contains keys for amount, description, category, and date.\n",
        "**Functions**\n",
        "->add_expense()\n",
        "Prompts the user to input the amount spent, a brief description, and the expense category.\n",
        "Automatically records the current date.\n",
        "Creates a dictionary for the new expense and appends it to the expenses list.\n",
        "->view_expenses()\n",
        "Checks if there are any expenses recorded.\n",
        "If expenses exist, it iterates through each expense and prints out the amount, description, category, and date.\n",
        "->analyze_expenses()\n",
        "Calculates the total expenses by summing up all the amounts in the expenses list.\n",
        "Creates a dictionary category_expenses to store category-wise expenses.\n",
        "Iterates through expenses, categorizes them, and sums up the amounts for each category.\n",
        "Prints the total expenses and category-wise expenses.\n",
        "->main()\n",
        "Displays a menu for the user to choose from: Add Expense, View Expenses, Analyze Expenses, or Exit.\n",
        "Based on the user's choice, it calls the respective function or exits the program.\n",
        "**Program Flow**\n",
        "The program runs an infinite loop in the main() function until the user chooses to exit.\n",
        "It continuously prompts the user for input and executes the corresponding functionality.\n",
        "The user can add expenses, view all recorded expenses, analyze expenses by total and category-wise breakdown, or exit the program.\n",
        "\n",
        "\n"
      ],
      "metadata": {
        "id": "E4m-NaBVE77y"
      }
    }
  ],
  "metadata": {
    "colab": {
      "provenance": [],
      "authorship_tag": "ABX9TyM7Sw0l7F3m1Y1NSy/13RXH",
      "include_colab_link": true
    },
    "kernelspec": {
      "display_name": "Python 3",
      "name": "python3"
    },
    "language_info": {
      "name": "python"
    }
  },
  "nbformat": 4,
  "nbformat_minor": 0
}