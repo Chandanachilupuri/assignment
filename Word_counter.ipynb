{
  "nbformat": 4,
  "nbformat_minor": 0,
  "metadata": {
    "colab": {
      "provenance": [],
      "authorship_tag": "ABX9TyPdeX2mqOSG0cEshKn5PyQS",
      "include_colab_link": true
    },
    "kernelspec": {
      "name": "python3",
      "display_name": "Python 3"
    },
    "language_info": {
      "name": "python"
    }
  },
  "cells": [
    {
      "cell_type": "markdown",
      "metadata": {
        "id": "view-in-github",
        "colab_type": "text"
      },
      "source": [
        "<a href=\"https://colab.research.google.com/github/Chandanachilupuri/assignment/blob/main/Word_counter.ipynb\" target=\"_parent\"><img src=\"https://colab.research.google.com/assets/colab-badge.svg\" alt=\"Open In Colab\"/></a>"
      ]
    },
    {
      "cell_type": "code",
      "execution_count": null,
      "metadata": {
        "id": "TqRN_62jLz4A"
      },
      "outputs": [],
      "source": []
    },
    {
      "cell_type": "code",
      "source": [
        "def count_words(sentence):\n",
        "  \"\"\"\n",
        "  This function counts the number of words in a given sentence.\n",
        "\n",
        "  Args:\n",
        "      sentence: The sentence or paragraph to be counted.\n",
        "\n",
        "  Returns:\n",
        "      The number of words in the sentence.\n",
        "  \"\"\"\n",
        "\n",
        "  # Split the sentence into words using whitespace as a delimiter.\n",
        "  words = sentence.split()\n",
        "\n",
        "  # Check for empty input\n",
        "  if not words:\n",
        "    return 0\n",
        "\n",
        "  # Return the number of words\n",
        "  return len(words)\n",
        "\n",
        "def main():\n",
        "  \"\"\"\n",
        "  The main function prompts the user for input, calls the word_count function, and displays the results.\n",
        "  \"\"\"\n",
        "\n",
        "  # Prompt the user for input\n",
        "  sentence = input(\"Enter a sentence or paragraph: \")\n",
        "\n",
        "  # Call the word_count function to count the words\n",
        "  word_count = count_words(sentence)\n",
        "\n",
        "  # Display the word count in a user-friendly format\n",
        "  if word_count == 0:\n",
        "    print(\"The input is empty.\")\n",
        "  else:\n",
        "    print(f\"The sentence or paragraph has {word_count} words.\")\n",
        "\n",
        "if __name__ == \"__main__\":\n",
        "  main()\n"
      ],
      "metadata": {
        "colab": {
          "base_uri": "https://localhost:8080/"
        },
        "id": "8CRFPzXiL5RL",
        "outputId": "2ff9a5a3-be74-4e31-9620-d67997fad66a"
      },
      "execution_count": 3,
      "outputs": [
        {
          "output_type": "stream",
          "name": "stdout",
          "text": [
            "Enter a sentence or paragraph: William Faulkner's 1,288 word run-on sentence in his short story \"Absalom, Absalom!\" is considered one of the longest sentences in literature\n",
            "The sentence or paragraph has 21 words.\n"
          ]
        }
      ]
    }
  ]
}