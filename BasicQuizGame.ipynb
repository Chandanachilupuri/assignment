{
  "nbformat": 4,
  "nbformat_minor": 0,
  "metadata": {
    "colab": {
      "provenance": [],
      "authorship_tag": "ABX9TyPvEcYqENcPnr835vuq9Q3B",
      "include_colab_link": true
    },
    "kernelspec": {
      "name": "python3",
      "display_name": "Python 3"
    },
    "language_info": {
      "name": "python"
    }
  },
  "cells": [
    {
      "cell_type": "markdown",
      "metadata": {
        "id": "view-in-github",
        "colab_type": "text"
      },
      "source": [
        "<a href=\"https://colab.research.google.com/github/Chandanachilupuri/assignment/blob/main/BasicQuizGame.ipynb\" target=\"_parent\"><img src=\"https://colab.research.google.com/assets/colab-badge.svg\" alt=\"Open In Colab\"/></a>"
      ]
    },
    {
      "cell_type": "code",
      "execution_count": null,
      "metadata": {
        "id": "b3X70MPOy4b9"
      },
      "outputs": [],
      "source": []
    },
    {
      "cell_type": "code",
      "source": [
        "class Quiz:\n",
        "    def __init__(self, questions):\n",
        "        self.questions = questions\n",
        "        self.score = 0\n",
        "\n",
        "    def display_question(self, question, options):\n",
        "        print(question)\n",
        "        for option in options:\n",
        "            print(option)\n",
        "\n",
        "    def check_answer(self, user_answer, correct_answer):\n",
        "        if user_answer.lower() == correct_answer.lower():\n",
        "            print(\"Correct!\")\n",
        "            self.score += 1\n",
        "        else:\n",
        "            print(\"Incorrect. The correct answer is:\", correct_answer)\n",
        "\n",
        "    def run_quiz(self):\n",
        "        for question, options, correct_answer in self.questions:\n",
        "            self.display_question(question, options)\n",
        "            user_answer = input(\"Enter your answer (A, B, C, or D): \")\n",
        "            self.check_answer(user_answer, correct_answer)\n",
        "            print()\n",
        "\n",
        "        print(\"Quiz completed! Your final score is:\", self.score)\n",
        "\n",
        "\n",
        "# Define quiz questions, options, and correct answers\n",
        "questions = [\n",
        "    (\"What is the capital of France?\", [\"A) London\", \"B) Paris\", \"C) Berlin\", \"D) Madrid\"], \"B\"),\n",
        "    (\"Which planet is known as the Red Planet?\", [\"A) Venus\", \"B) Mars\", \"C) Jupiter\", \"D) Saturn\"], \"B\"),\n",
        "    (\"Who painted the Mona Lisa?\", [\"A) Vincent van Gogh\", \"B) Leonardo da Vinci\", \"C) Pablo Picasso\", \"D) Michelangelo\"], \"B\")\n",
        "]\n",
        "\n",
        "# Create a Quiz instance and run the quiz\n",
        "quiz = Quiz(questions)\n",
        "quiz.run_quiz()"
      ],
      "metadata": {
        "colab": {
          "base_uri": "https://localhost:8080/"
        },
        "id": "EarM3wQEy8RN",
        "outputId": "b88c6a03-b8d3-4d0e-fea6-249cc7c30d25"
      },
      "execution_count": 2,
      "outputs": [
        {
          "output_type": "stream",
          "name": "stdout",
          "text": [
            "What is the capital of France?\n",
            "A) London\n",
            "B) Paris\n",
            "C) Berlin\n",
            "D) Madrid\n",
            "Enter your answer (A, B, C, or D): B\n",
            "Correct!\n",
            "\n",
            "Which planet is known as the Red Planet?\n",
            "A) Venus\n",
            "B) Mars\n",
            "C) Jupiter\n",
            "D) Saturn\n",
            "Enter your answer (A, B, C, or D): B\n",
            "Correct!\n",
            "\n",
            "Who painted the Mona Lisa?\n",
            "A) Vincent van Gogh\n",
            "B) Leonardo da Vinci\n",
            "C) Pablo Picasso\n",
            "D) Michelangelo\n",
            "Enter your answer (A, B, C, or D): C\n",
            "Incorrect. The correct answer is: B\n",
            "\n",
            "Quiz completed! Your final score is: 2\n"
          ]
        }
      ]
    }
  ]
}