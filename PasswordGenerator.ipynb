{
  "nbformat": 4,
  "nbformat_minor": 0,
  "metadata": {
    "colab": {
      "provenance": [],
      "authorship_tag": "ABX9TyN2pHcBNcEGmMdeBeCq0FwY",
      "include_colab_link": true
    },
    "kernelspec": {
      "name": "python3",
      "display_name": "Python 3"
    },
    "language_info": {
      "name": "python"
    }
  },
  "cells": [
    {
      "cell_type": "markdown",
      "metadata": {
        "id": "view-in-github",
        "colab_type": "text"
      },
      "source": [
        "<a href=\"https://colab.research.google.com/github/Chandanachilupuri/assignment/blob/main/PasswordGenerator.ipynb\" target=\"_parent\"><img src=\"https://colab.research.google.com/assets/colab-badge.svg\" alt=\"Open In Colab\"/></a>"
      ]
    },
    {
      "cell_type": "code",
      "execution_count": 4,
      "metadata": {
        "colab": {
          "base_uri": "https://localhost:8080/"
        },
        "id": "HQyrBi5COMWX",
        "outputId": "e3d93aa3-c922-48b0-f8f0-44280d5f43b0"
      },
      "outputs": [
        {
          "output_type": "stream",
          "name": "stdout",
          "text": [
            "Welcome to the Password Generator!\n",
            "Please specify the length and number of passwords you want to generate.\n",
            "Enter the length of each password: 16\n",
            "Enter the number of passwords to generate: 7\n",
            "\n",
            "Generated Passwords:\n",
            "Password 1: %AKxQ9X<KrG3bVse\n",
            "Password 2: ^pJ\"%X|dfKbCUWpH\n",
            "Password 3: `wr!||_P5FLj3[UR\n",
            "Password 4: `U'%na%-(}}^a3T/\n",
            "Password 5: L,WMrc)'&AVS}7%{\n",
            "Password 6: 4bL%jWEmL'=vi3^z\n",
            "Password 7: =5R/2Qj5ySA]D?V!\n"
          ]
        }
      ],
      "source": [
        "import random\n",
        "import string\n",
        "\n",
        "def generate_password(length, num_passwords):\n",
        "    \"\"\"\n",
        "    Generates a specified number of random passwords of a given length.\n",
        "\n",
        "    Parameters:\n",
        "    length (int): The length of each password.\n",
        "    num_passwords (int): The number of passwords to generate.\n",
        "\n",
        "    Returns:\n",
        "    list: A list of generated passwords.\n",
        "    \"\"\"\n",
        "    # Define the character sets to use\n",
        "    uppercase = string.ascii_uppercase\n",
        "    lowercase = string.ascii_lowercase\n",
        "    numbers = string.digits\n",
        "    special_chars = string.punctuation\n",
        "\n",
        "    # Combine the character sets\n",
        "    all_chars = uppercase + lowercase + numbers + special_chars\n",
        "\n",
        "    # Generate the specified number of passwords\n",
        "    passwords = []\n",
        "    for _ in range(num_passwords):\n",
        "        password = ''.join(random.choice(all_chars) for _ in range(length))\n",
        "        passwords.append(password)\n",
        "\n",
        "    return passwords\n",
        "\n",
        "def main():\n",
        "    \"\"\"\n",
        "    Main function to interact with the user and generate passwords.\n",
        "    \"\"\"\n",
        "    print(\"Welcome to the Password Generator!\")\n",
        "    print(\"Please specify the length and number of passwords you want to generate.\")\n",
        "\n",
        "    # Get the length and number of passwords from the user\n",
        "    length = int(input(\"Enter the length of each password: \"))\n",
        "    num_passwords = int(input(\"Enter the number of passwords to generate: \"))\n",
        "\n",
        "    # Generate the passwords\n",
        "    passwords = generate_password(length, num_passwords)\n",
        "\n",
        "    # Print the generated passwords\n",
        "    print(\"\\nGenerated Passwords:\")\n",
        "    for i, password in enumerate(passwords, start=1):\n",
        "        print(f\"Password {i}: {password}\")\n",
        "\n",
        "if __name__ == \"__main__\":\n",
        "    main()"
      ]
    },
    {
      "cell_type": "markdown",
      "source": [
        "**Security Considerations**\n",
        "**Length**: The length of each password should be at least 12 characters to ensure sufficient security.\n",
        "**Randomness:** The script uses Python's random library to generate truly random passwords.\n",
        "**Uniqueness**: Each password is generated independently, ensuring that they are unique.\n",
        "**Character Set**: The script uses a mix of uppercase and lowercase letters, numbers, and special characters to create strong and secure passwords.\n"
      ],
      "metadata": {
        "id": "3ez2-chjPblL"
      }
    }
  ]
}